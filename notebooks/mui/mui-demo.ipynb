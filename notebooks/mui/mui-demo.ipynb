{
 "cells": [
  {
   "cell_type": "markdown",
   "metadata": {},
   "source": [
    "# multiply-ui\n",
    "\n",
    "A GUI mock for the [Multiply](https://github.com/multiply-org) project based on\n",
    "[Jupyter Widgets](https://ipywidgets.readthedocs.io) and [Bokeh](https://bokeh.pydata.org).\n",
    "\n",
    "**Note**, you'll have to start the server first:\n",
    "        \n",
    "```\n",
    "$ source activate multiply-ui\n",
    "$ mui-server\n",
    "```\n",
    "\n",
    "Note for developers: the variable `debug_view` contains a snapshot of the Python function traceback recorded during the last encountered exception.\n"
   ]
  },
  {
   "cell_type": "markdown",
   "metadata": {},
   "source": [
    "Import the Multiply user interface components, called *mui* from now on"
   ]
  },
  {
   "cell_type": "code",
   "execution_count": 1,
   "metadata": {},
   "outputs": [],
   "source": [
    "from multiply_ui.ui import mui"
   ]
  },
  {
   "cell_type": "markdown",
   "metadata": {},
   "source": [
    "Inspect all variables that Multiply can generate:"
   ]
  },
  {
   "cell_type": "code",
   "execution_count": 2,
   "metadata": {},
   "outputs": [
    {
     "data": {
      "text/html": [
       "<div><h4>Variables</h4><table><tr><th>Id</th><th>Name</th><th>Units</th><th>Description</th></tr><tr><td>lai</td><td>Effective Leaf Area Index</td><td>m2/m2</td><td>Effective Leaf Area Index</td></tr><tr><td>cab</td><td>Leaf Chlorophyll Content</td><td>ug/cm2</td><td>Leaf Chlorophyll Content</td></tr><tr><td>cb</td><td>Leaf Senescent material</td><td></td><td>Leaf Senescent material</td></tr><tr><td>car</td><td>Leaf Carotonoid Content</td><td>ug/cm2</td><td>Leaf Carotonoid Content</td></tr><tr><td>cw</td><td>Leaf Water Content</td><td>cm</td><td>Leaf Water Content</td></tr><tr><td>cdm</td><td>Leaf Dry Mass</td><td>g/cm2</td><td>Leaf Dry Mass</td></tr><tr><td>n</td><td>Structural Parameter</td><td></td><td>Structural Parameter</td></tr><tr><td>ala</td><td>Average Leaf Angle</td><td>degrees</td><td>Average Leaf Angle</td></tr><tr><td>bsoil</td><td>Soil Brightness parameter</td><td></td><td>Soil Brightness parameter</td></tr><tr><td>psoil</td><td>Soil Wetness parameter</td><td></td><td>Soil Wetness parameter</td></tr><tr><td>sm</td><td>Soil Moisture</td><td></td><td>Soil Moisture</td></tr><tr><td>sr</td><td>Soil Roughness</td><td></td><td>Soil Roughness</td></tr></table></div>"
      ],
      "text/plain": [
       "<multiply_ui.ui.params.model.Variables at 0x7ff7e503d588>"
      ]
     },
     "execution_count": 2,
     "metadata": {},
     "output_type": "execute_result"
    }
   ],
   "source": [
    "mui.vars"
   ]
  },
  {
   "cell_type": "markdown",
   "metadata": {},
   "source": [
    "Inspect all forward models that Multiply provides:"
   ]
  },
  {
   "cell_type": "code",
   "execution_count": 3,
   "metadata": {},
   "outputs": [
    {
     "data": {
      "text/html": [
       "<div><h4>Forward Models</h4><table><tr><th>Id</th><th>Name</th><th>Description</th><th>Author(s)</th><th></th></tr><tr><td>s1_kaska</td><td>Water Cloud Model for Sentinel-1</td><td>Water Cloud model to retrieve soil moisture with priors from optical satellite data to enhance retrieval results</td><td></td><td><a href=\"\">More...</a></td></tr><tr><td>s2_prosail_kaska</td><td>PROSAIL for Sentinel-2 (Kaska)</td><td>The PROSPECT+SAIL models for continuous vegetation canopies</td><td>Verhoef & Jacquemoud</td><td><a href=\"https://github.com/jgomezdans/prosail\">More...</a></td></tr></table></div>"
      ],
      "text/plain": [
       "<multiply_ui.ui.params.model.ForwardModels at 0x7ff7e503d240>"
      ]
     },
     "execution_count": 3,
     "metadata": {},
     "output_type": "execute_result"
    }
   ],
   "source": [
    "mui.models"
   ]
  },
  {
   "cell_type": "markdown",
   "metadata": {},
   "source": [
    "Inspect all input types that Multiply knows about:"
   ]
  },
  {
   "cell_type": "code",
   "execution_count": 4,
   "metadata": {},
   "outputs": [
    {
     "data": {
      "text/html": [
       "<div><h4>Input Types</h4><table><tr><th>Id</th><th>Name</th><th>Time Range</th></tr><tr><td>Sentinel-1</td><td>Sentinel-1 Single Look Complex (SLC)</td><td>('04-03-2014', '')</td></tr><tr><td>Sentinel-2</td><td>Sentinel-2 MSI L1C</td><td>('06-23-2015', '')</td></tr></table></div>"
      ],
      "text/plain": [
       "<multiply_ui.ui.params.model.InputTypes at 0x7ff7e503d198>"
      ]
     },
     "execution_count": 4,
     "metadata": {},
     "output_type": "execute_result"
    }
   ],
   "source": [
    "mui.itypes"
   ]
  },
  {
   "cell_type": "markdown",
   "metadata": {},
   "source": [
    "The entry point function `mui.sel_params()` brings up the main GUI form that can generate processing requests or submit processing requests directly. (We currently use a mock interface rather than the server. If you don't want that, set `mock=False` or omit the argument.)\n",
    "\n",
    "In the following UI form, press *New Request*"
   ]
  },
  {
   "cell_type": "code",
   "execution_count": 5,
   "metadata": {},
   "outputs": [
    {
     "data": {
      "application/vnd.jupyter.widget-view+json": {
       "model_id": "87173c66fd944497a061d6fdecce8ea6",
       "version_major": 2,
       "version_minor": 0
      },
      "text/plain": [
       "Box(children=(Box(children=(HTML(value='<h2>Output Variables</h2>'),), layout=Layout(display='flex', flex_flow…"
      ]
     },
     "metadata": {},
     "output_type": "display_data"
    }
   ],
   "source": [
    "mui.sel_params(identifier='request_2', name='Speulderbos_2', mock=False)"
   ]
  },
  {
   "cell_type": "code",
   "execution_count": 6,
   "metadata": {},
   "outputs": [
    {
     "data": {
      "text/html": [
       "<div><div><h4>Job Speulderbos_2</h4><table><tr><td>Name:</td><td>Speulderbos_2</td></tr><tr><td>Status:</td><td>running</td></tr><tr><td>Progress:</td><td>0</td></tr></table></div><div><h4>Tasks</h4><table><tr><th>Name</th><th>Progress</th><th>Status</th></tr><tr><td>Preprocessing S2 Data for time step from 2019-04-16 to 2019-05-21</td><td>0</td><td>initial</td></tr><tr><td>Storing S2 Pre-processing results of time step from 2019-04-16 to 2019-05-21</td><td>0</td><td>initial</td></tr><tr><td>Inferring variables from S2 inference for tile 0, 0</td><td>0</td><td>initial</td></tr><tr><td>Assembling results from inference</td><td>0</td><td>initial</td></tr></table></div></div>"
      ],
      "text/plain": [
       "<multiply_ui.ui.job.model.Job at 0x7f4c91214d68>"
      ]
     },
     "execution_count": 6,
     "metadata": {},
     "output_type": "execute_result"
    }
   ],
   "source": [
    "request_2"
   ]
  },
  {
   "cell_type": "code",
   "execution_count": null,
   "metadata": {},
   "outputs": [],
   "source": []
  },
  {
   "cell_type": "markdown",
   "metadata": {},
   "source": [
    "We can now submit the request using the processing request's `submit` method. It takes a single argument that determines the name of the variable that will receive the job proxy object once the job execution has been accepted."
   ]
  },
  {
   "cell_type": "code",
   "execution_count": 8,
   "metadata": {},
   "outputs": [
    {
     "data": {
      "application/vnd.jupyter.widget-view+json": {
       "model_id": "9fd37f8367da41db8116f629ca2198bd",
       "version_major": 2,
       "version_minor": 0
      },
      "text/plain": [
       "VBox(children=(GridBox(children=(HTML(value='<b>Job ID</b>'), HTML(value='<b>Job Name</b>'), HTML(value='<b>Pr…"
      ]
     },
     "metadata": {},
     "output_type": "display_data"
    }
   ],
   "source": [
    "# req.submit('my_job', mock=False)\n",
    "mui.obs_job(request_2)"
   ]
  },
  {
   "cell_type": "markdown",
   "metadata": {},
   "source": [
    "Let's look at the resulting job:"
   ]
  },
  {
   "cell_type": "code",
   "execution_count": 9,
   "metadata": {},
   "outputs": [
    {
     "data": {
      "application/vnd.jupyter.widget-view+json": {
       "model_id": "8b7d9fe7fe36458485a51a972174aa4b",
       "version_major": 2,
       "version_minor": 0
      },
      "text/plain": [
       "VBox(children=(GridBox(children=(HTML(value='<b>Job ID</b>'), HTML(value='<b>Job Name</b>'), HTML(value='<b>Pr…"
      ]
     },
     "metadata": {},
     "output_type": "display_data"
    }
   ],
   "source": [
    "mui.obs_jobs()"
   ]
  },
  {
   "cell_type": "markdown",
   "metadata": {},
   "source": [
    "Look at only the tasks ..."
   ]
  },
  {
   "cell_type": "code",
   "execution_count": 23,
   "metadata": {},
   "outputs": [
    {
     "ename": "NameError",
     "evalue": "name 'my_job' is not defined",
     "output_type": "error",
     "traceback": [
      "\u001b[0;31m---------------------------------------------------------------------------\u001b[0m",
      "\u001b[0;31mNameError\u001b[0m                                 Traceback (most recent call last)",
      "\u001b[0;32m<ipython-input-23-f3bc65258eb9>\u001b[0m in \u001b[0;36m<module>\u001b[0;34m\u001b[0m\n\u001b[0;32m----> 1\u001b[0;31m \u001b[0mmy_job\u001b[0m\u001b[0;34m.\u001b[0m\u001b[0mtasks\u001b[0m\u001b[0;34m\u001b[0m\u001b[0;34m\u001b[0m\u001b[0m\n\u001b[0m",
      "\u001b[0;31mNameError\u001b[0m: name 'my_job' is not defined"
     ]
    }
   ],
   "source": [
    "my_job.tasks"
   ]
  },
  {
   "cell_type": "markdown",
   "metadata": {},
   "source": [
    "... or only a specific task."
   ]
  },
  {
   "cell_type": "code",
   "execution_count": 24,
   "metadata": {},
   "outputs": [
    {
     "ename": "NameError",
     "evalue": "name 'my_job' is not defined",
     "output_type": "error",
     "traceback": [
      "\u001b[0;31m---------------------------------------------------------------------------\u001b[0m",
      "\u001b[0;31mNameError\u001b[0m                                 Traceback (most recent call last)",
      "\u001b[0;32m<ipython-input-24-7db2f500a79a>\u001b[0m in \u001b[0;36m<module>\u001b[0;34m\u001b[0m\n\u001b[0;32m----> 1\u001b[0;31m \u001b[0mmy_job\u001b[0m\u001b[0;34m.\u001b[0m\u001b[0mtasks\u001b[0m\u001b[0;34m.\u001b[0m\u001b[0mget\u001b[0m\u001b[0;34m(\u001b[0m\u001b[0;34m'Collecting static Data'\u001b[0m\u001b[0;34m)\u001b[0m\u001b[0;34m\u001b[0m\u001b[0;34m\u001b[0m\u001b[0m\n\u001b[0m",
      "\u001b[0;31mNameError\u001b[0m: name 'my_job' is not defined"
     ]
    }
   ],
   "source": [
    "my_job.tasks.get('Collecting static Data')"
   ]
  },
  {
   "cell_type": "markdown",
   "metadata": {},
   "source": [
    "Now, let's monitor the progress of the job, using a dedicated UI form:"
   ]
  },
  {
   "cell_type": "code",
   "execution_count": 17,
   "metadata": {},
   "outputs": [
    {
     "ename": "NameError",
     "evalue": "name 'my_job' is not defined",
     "output_type": "error",
     "traceback": [
      "\u001b[0;31m---------------------------------------------------------------------------\u001b[0m",
      "\u001b[0;31mNameError\u001b[0m                                 Traceback (most recent call last)",
      "\u001b[0;32m<ipython-input-17-3d1b9fac52e4>\u001b[0m in \u001b[0;36m<module>\u001b[0;34m\u001b[0m\n\u001b[0;32m----> 1\u001b[0;31m \u001b[0mmui\u001b[0m\u001b[0;34m.\u001b[0m\u001b[0mobs_job\u001b[0m\u001b[0;34m(\u001b[0m\u001b[0mmy_job\u001b[0m\u001b[0;34m,\u001b[0m \u001b[0mmock\u001b[0m\u001b[0;34m=\u001b[0m\u001b[0;32mTrue\u001b[0m\u001b[0;34m)\u001b[0m\u001b[0;34m\u001b[0m\u001b[0;34m\u001b[0m\u001b[0m\n\u001b[0m",
      "\u001b[0;31mNameError\u001b[0m: name 'my_job' is not defined"
     ]
    }
   ],
   "source": [
    "mui.obs_job(my_job, mock=True)"
   ]
  },
  {
   "cell_type": "markdown",
   "metadata": {},
   "source": [
    "We may also submit a processing request directly from the UI. Bring up the same form as in cell 6, but press *Submit Request* this time."
   ]
  },
  {
   "cell_type": "code",
   "execution_count": null,
   "metadata": {},
   "outputs": [],
   "source": [
    "mui.sel_params(identifier='my_other_job', name='my_other job\\'s name', mock=True)"
   ]
  },
  {
   "cell_type": "code",
   "execution_count": null,
   "metadata": {},
   "outputs": [],
   "source": [
    "my_other_job"
   ]
  },
  {
   "cell_type": "markdown",
   "metadata": {},
   "source": [
    "Now that we have more than one job, we want to see te progresses of both of them. To this end, bring up the Jobs Observation UI form. This form shows all jobs that are registered in the MULTIPLY platform, along with their states. In this form, you have the option to cancel a job."
   ]
  },
  {
   "cell_type": "code",
   "execution_count": null,
   "metadata": {},
   "outputs": [],
   "source": [
    "mui.obs_jobs(mock=True)"
   ]
  },
  {
   "cell_type": "markdown",
   "metadata": {},
   "source": [
    "Jobs can also be canceled via their `cancel` method."
   ]
  },
  {
   "cell_type": "code",
   "execution_count": null,
   "metadata": {},
   "outputs": [],
   "source": [
    "my_job.cancel(mock=True)"
   ]
  }
 ],
 "metadata": {
  "kernelspec": {
   "display_name": "Python 3",
   "language": "python",
   "name": "python3"
  },
  "language_info": {
   "codemirror_mode": {
    "name": "ipython",
    "version": 3
   },
   "file_extension": ".py",
   "mimetype": "text/x-python",
   "name": "python",
   "nbconvert_exporter": "python",
   "pygments_lexer": "ipython3",
   "version": "3.6.7"
  }
 },
 "nbformat": 4,
 "nbformat_minor": 2
}
